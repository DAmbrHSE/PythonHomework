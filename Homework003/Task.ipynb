{
 "cells": [
  {
   "cell_type": "code",
   "execution_count": 1,
   "id": "d7278e09",
   "metadata": {},
   "outputs": [],
   "source": [
    "items = {\n",
    "'milk15':{'name': 'молоко 1.5%', 'count': 34, 'price': 89.9},\n",
    "'cheese':{'name': 'сыр молочный 1 кг.', 'count': 12, 'price': 990.9},\n",
    "'sausage':{'name': 'колбаса 1 кг.', 'count': 122, 'price': 1990.9}\n",
    "}"
   ]
  },
  {
   "cell_type": "code",
   "execution_count": 2,
   "id": "8c6db0f4",
   "metadata": {},
   "outputs": [
    {
     "name": "stdout",
     "output_type": "stream",
     "text": [
      "{'milk15': False, 'cheese': True, 'sausage': False}\n"
     ]
    }
   ],
   "source": [
    "count_less_20 = { key : (items[key]['count'] < 20) for key in items}\n",
    "print(count_less_20)"
   ]
  }
 ],
 "metadata": {
  "kernelspec": {
   "display_name": "Python 3",
   "language": "python",
   "name": "python3"
  },
  "language_info": {
   "codemirror_mode": {
    "name": "ipython",
    "version": 3
   },
   "file_extension": ".py",
   "mimetype": "text/x-python",
   "name": "python",
   "nbconvert_exporter": "python",
   "pygments_lexer": "ipython3",
   "version": "3.13.8"
  }
 },
 "nbformat": 4,
 "nbformat_minor": 5
}
