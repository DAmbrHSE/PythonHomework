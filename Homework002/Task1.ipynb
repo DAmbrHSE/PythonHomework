{
 "cells": [
  {
   "cell_type": "code",
   "execution_count": 43,
   "id": "e49cc249",
   "metadata": {},
   "outputs": [],
   "source": [
    "string = \"test\""
   ]
  },
  {
   "cell_type": "code",
   "execution_count": 44,
   "id": "d5eefad1",
   "metadata": {},
   "outputs": [
    {
     "data": {
      "text/plain": [
       "'es'"
      ]
     },
     "execution_count": 44,
     "metadata": {},
     "output_type": "execute_result"
    }
   ],
   "source": [
    "first_idx = (len(string) - 1) // 2\n",
    "last_idx = len(string) // 2\n",
    "string[first_idx:last_idx + 1]"
   ]
  }
 ],
 "metadata": {
  "kernelspec": {
   "display_name": "Python 3",
   "language": "python",
   "name": "python3"
  },
  "language_info": {
   "codemirror_mode": {
    "name": "ipython",
    "version": 3
   },
   "file_extension": ".py",
   "mimetype": "text/x-python",
   "name": "python",
   "nbconvert_exporter": "python",
   "pygments_lexer": "ipython3",
   "version": "3.13.7"
  }
 },
 "nbformat": 4,
 "nbformat_minor": 5
}
