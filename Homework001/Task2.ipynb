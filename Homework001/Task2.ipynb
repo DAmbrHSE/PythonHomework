{
 "cells": [
  {
   "cell_type": "code",
   "execution_count": 20,
   "id": "71bb201a-a3ca-4e98-91ad-a572cc6ae440",
   "metadata": {},
   "outputs": [],
   "source": [
    "number = 123411"
   ]
  },
  {
   "cell_type": "code",
   "execution_count": 19,
   "id": "3002f526-0e83-40a7-850e-280bbc2d9a73",
   "metadata": {},
   "outputs": [
    {
     "name": "stdout",
     "output_type": "stream",
     "text": [
      "Счастливый билет\n"
     ]
    }
   ],
   "source": [
    "right_side_sum = number % 10 + (number // 10) % 10 + (number // 100) % 10\n",
    "number_left_side = number // 1000\n",
    "left_side_sum = number_left_side % 10 + (number_left_side // 10) % 10 + (number_left_side // 100) % 10 \n",
    "\n",
    "if left_side_sum == right_side_sum:\n",
    "    print(\"Счастливый билет\")\n",
    "else:\n",
    "    print(\"Несчастливый билет\")"
   ]
  }
 ],
 "metadata": {
  "kernelspec": {
   "display_name": "Python 3",
   "language": "python",
   "name": "python3"
  },
  "language_info": {
   "codemirror_mode": {
    "name": "ipython",
    "version": 3
   },
   "file_extension": ".py",
   "mimetype": "text/x-python",
   "name": "python",
   "nbconvert_exporter": "python",
   "pygments_lexer": "ipython3",
   "version": "3.13.7"
  }
 },
 "nbformat": 4,
 "nbformat_minor": 5
}
